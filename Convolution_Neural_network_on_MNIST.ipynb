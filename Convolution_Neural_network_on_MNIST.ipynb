{
 "cells": [
  {
   "cell_type": "code",
   "execution_count": 2,
   "metadata": {},
   "outputs": [
    {
     "name": "stdout",
     "output_type": "stream",
     "text": [
      "Extracting MNIST_data/train-images-idx3-ubyte.gz\n",
      "Extracting MNIST_data/train-labels-idx1-ubyte.gz\n",
      "Extracting MNIST_data/t10k-images-idx3-ubyte.gz\n",
      "Extracting MNIST_data/t10k-labels-idx1-ubyte.gz\n"
     ]
    }
   ],
   "source": [
    "import numpy as np\n",
    "import tensorflow as tf\n",
    "import pandas as pd\n",
    "from tensorflow.contrib.layers import fully_connected\n",
    "from tensorflow.examples.tutorials.mnist import input_data\n",
    "\n",
    "mnist = input_data.read_data_sets(\"MNIST_data/\", one_hot=False)"
   ]
  },
  {
   "cell_type": "code",
   "execution_count": 3,
   "metadata": {},
   "outputs": [],
   "source": [
    "height = 28\n",
    "width = 28\n",
    "channels = 1\n",
    "n_filters = 8\n",
    "\n",
    "n_hidden1 = 500\n",
    "n_hidden2 = 100\n",
    "n_hidden3 = 50\n",
    "n_output = 10\n",
    "learning_rate = 0.1\n",
    "\n",
    "X = tf.placeholder(tf.float32, shape=(None, height * width))\n",
    "y = tf.placeholder(tf.int64, shape=(None), name=\"y\")\n",
    "\n",
    "input_layers = tf.reshape(X, [-1,height,width,channels])\n",
    "\n",
    "convolution = tf.layers.conv2d(input_layers,filters=n_filters, kernel_size = [5,5], \n",
    "                           padding = \"SAME\", activation = tf.nn.relu)\n",
    "pool = tf.layers.max_pooling2d(inputs=convolution, pool_size=[2, 2], strides=2)\n",
    "pool_flat = tf.reshape(pool, [-1,n_filters * 14 * 14])\n",
    "\n",
    "\n",
    "with tf.contrib.framework.arg_scope([fully_connected], activation_fn = tf.nn.relu):\n",
    "    hidden1 = fully_connected(pool_flat,n_hidden1)\n",
    "    hidden2 = fully_connected(hidden1,n_hidden2)\n",
    "    hidden3 = fully_connected(hidden2,n_hidden3)\n",
    "    logits = fully_connected(hidden3, n_output, activation_fn=None)\n",
    "\n",
    "xentropy = tf.nn.sparse_softmax_cross_entropy_with_logits(labels=y, logits=logits)\n",
    "loss = tf.reduce_mean(xentropy)\n",
    "\n",
    "optimizer = tf.train.GradientDescentOptimizer(learning_rate)\n",
    "training_op = optimizer.minimize(loss)\n",
    "\n",
    "correct = tf.nn.in_top_k(logits, y, 1)\n",
    "accuracy = tf.reduce_mean(tf.cast(correct, tf.float32))"
   ]
  },
  {
   "cell_type": "code",
   "execution_count": 4,
   "metadata": {},
   "outputs": [
    {
     "name": "stdout",
     "output_type": "stream",
     "text": [
      "0 Train accuracy: 1.0 Test accuracy: 0.9749\n",
      "1 Train accuracy: 1.0 Test accuracy: 0.9827\n",
      "2 Train accuracy: 1.0 Test accuracy: 0.9864\n",
      "3 Train accuracy: 1.0 Test accuracy: 0.987\n",
      "4 Train accuracy: 1.0 Test accuracy: 0.9872\n",
      "5 Train accuracy: 1.0 Test accuracy: 0.9877\n",
      "6 Train accuracy: 1.0 Test accuracy: 0.9874\n",
      "7 Train accuracy: 1.0 Test accuracy: 0.9854\n",
      "8 Train accuracy: 1.0 Test accuracy: 0.9891\n",
      "9 Train accuracy: 1.0 Test accuracy: 0.9894\n"
     ]
    }
   ],
   "source": [
    "init = tf.global_variables_initializer()\n",
    "saver = tf.train.Saver()\n",
    "\n",
    "\n",
    "n_epochs = 10\n",
    "batch_size = 50\n",
    "\n",
    "with tf.Session() as sess:\n",
    "    init.run()\n",
    "    for epoch in range(n_epochs):\n",
    "        for iteration in range(mnist.train.num_examples // batch_size):\n",
    "            X_batch, y_batch = mnist.train.next_batch(batch_size)\n",
    "            sess.run(training_op, feed_dict={X: X_batch, y: y_batch})\n",
    "        acc_train = accuracy.eval(feed_dict={X: X_batch, y: y_batch})\n",
    "        acc_test = accuracy.eval(feed_dict={X: mnist.test.images,y: mnist.test.labels})\n",
    "        print(epoch, \"Train accuracy:\", acc_train, \"Test accuracy:\", acc_test)\n"
   ]
  },
  {
   "cell_type": "code",
   "execution_count": null,
   "metadata": {},
   "outputs": [],
   "source": []
  }
 ],
 "metadata": {
  "kernelspec": {
   "display_name": "Python 3",
   "language": "python",
   "name": "python3"
  },
  "language_info": {
   "codemirror_mode": {
    "name": "ipython",
    "version": 3
   },
   "file_extension": ".py",
   "mimetype": "text/x-python",
   "name": "python",
   "nbconvert_exporter": "python",
   "pygments_lexer": "ipython3",
   "version": "3.6.3"
  }
 },
 "nbformat": 4,
 "nbformat_minor": 2
}
